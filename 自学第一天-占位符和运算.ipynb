{
 "cells": [
  {
   "cell_type": "code",
   "execution_count": 2,
   "metadata": {},
   "outputs": [
    {
     "name": "stdout",
     "output_type": "stream",
     "text": [
      "flag0 = True\n",
      "flag1 = True\n",
      "flag2 = False\n",
      "flag3 = False\n",
      "flag4 = True\n",
      "flag5 = True\n"
     ]
    }
   ],
   "source": [
    "flag0 = 1 == 1\n",
    "flag1 = 3 > 2\n",
    "flag2 = 2 < 1\n",
    "flag3 = flag1 and flag2\n",
    "flag4 = flag1 or flag2\n",
    "flag5 =  (1 != 2)\n",
    "print('flag0 =', flag0)    # flag0 = True\n",
    "print('flag1 =', flag1)    # flag1 = True\n",
    "print('flag2 =', flag2)    # flag2 = False\n",
    "print('flag3 =', flag3)    # flag3 = False\n",
    "print('flag4 =', flag4)    # flag4 = True\n",
    "print('flag5 =', flag5)    # flag5 = False"
   ]
  },
  {
   "cell_type": "code",
   "execution_count": 17,
   "metadata": {},
   "outputs": [
    {
     "name": "stdout",
     "output_type": "stream",
     "text": [
      "请输入华氏温度:25\n",
      "25.0华氏度 = -3.9摄氏度\n"
     ]
    }
   ],
   "source": [
    "f = float(input('请输入华氏温度:'))\n",
    "c = (f-32)/1.8\n",
    "print('%.1f华氏度 = %.1f摄氏度' % (f, c))"
   ]
  },
  {
   "cell_type": "code",
   "execution_count": 25,
   "metadata": {},
   "outputs": [
    {
     "name": "stdout",
     "output_type": "stream",
     "text": [
      "请输入圆的半径:25\n",
      "周长=157.079500\n",
      "面积=1963.493750000\n"
     ]
    }
   ],
   "source": [
    "radius=float(input('请输入圆的半径:'))\n",
    "perimeter=2*3.14159*radius\n",
    "area=3.14159*radius*radius\n",
    "print('周长=%f' % perimeter)\n",
    "print('面积=%.9f' % area)"
   ]
  },
  {
   "cell_type": "code",
   "execution_count": 27,
   "metadata": {},
   "outputs": [
    {
     "name": "stdout",
     "output_type": "stream",
     "text": [
      "Enter your name:程小杰\n",
      "Enter your age:30\n",
      "Enter your hight:165\n",
      "Enter your position:181\n",
      "Enter your telephone181\n",
      "\n",
      "\n",
      "\n",
      "Name is 程小杰\n",
      "Age is 30\n",
      "Hight is 165.0\n",
      "Job is 181\n",
      "Telephone is 181\n"
     ]
    }
   ],
   "source": [
    "myName=input('Enter your name:')\n",
    "userAge=input('Enter your age:')\n",
    "userHight=input('Enter your hight:')\n",
    "jobPosition=input('Enter your position:')\n",
    "phoneNum=input('Enter your telephone')\n",
    "\n",
    "print('\\n\\n\\nName is %s'%(myName))\n",
    "print('Age is %d'%(int(userAge)))\n",
    "print('Hight is %s'%(float(userHight)))\n",
    "print('Job is %s'%(jobPosition))\n",
    "print('Telephone is %s'%(int(phoneNum)))"
   ]
  },
  {
   "cell_type": "code",
   "execution_count": 28,
   "metadata": {},
   "outputs": [
    {
     "name": "stdout",
     "output_type": "stream",
     "text": [
      "a = 5\n",
      "b = 15\n",
      "5 + 15 = 20\n",
      "5 - 15 = -10\n",
      "5 * 15 = 75\n",
      "5 / 15 = 0.333333\n",
      "5 // 15 = 0\n",
      "5 % 15 = 5\n",
      "5 ** 15 = 30517578125\n"
     ]
    }
   ],
   "source": [
    "a = int(input('a = '))\n",
    "b = int(input('b = '))\n",
    "print('%d + %d = %d' % (a, b, a + b))\n",
    "print('%d - %d = %d' % (a, b, a - b))\n",
    "print('%d * %d = %d' % (a, b, a * b))\n",
    "print('%d / %d = %f' % (a, b, a / b))\n",
    "print('%d // %d = %d' % (a, b, a // b))\n",
    "print('%d %% %d = %d' % (a, b, a % b))\n",
    "print('%d ** %d = %d' % (a, b, a ** b))"
   ]
  },
  {
   "cell_type": "code",
   "execution_count": 29,
   "metadata": {},
   "outputs": [
    {
     "name": "stdout",
     "output_type": "stream",
     "text": [
      "195\n"
     ]
    }
   ],
   "source": [
    "a = 10\n",
    "b = 3\n",
    "a += b        # 相当于：a = a + b\n",
    "a *= a + 2    # 相当于：a = a * (a + 2)\n",
    "print(a)      # 算一下这里会输出什么"
   ]
  },
  {
   "cell_type": "code",
   "execution_count": 34,
   "metadata": {},
   "outputs": [
    {
     "name": "stdout",
     "output_type": "stream",
     "text": [
      "13 x 15 = 195.000000\n"
     ]
    }
   ],
   "source": [
    "a=13\n",
    "b=15\n",
    "c=a*b\n",
    "print('%d x %a = %f' % (a,b,c))"
   ]
  },
  {
   "cell_type": "markdown",
   "metadata": {},
   "source": [
    "#  如果代码太长写成一行不便于阅读 可以使用\\对代码进行折行"
   ]
  },
  {
   "cell_type": "code",
   "execution_count": 53,
   "metadata": {},
   "outputs": [
    {
     "name": "stdout",
     "output_type": "stream",
     "text": [
      "请输入年份: 2008\n",
      "2008年是闰年\n"
     ]
    }
   ],
   "source": [
    "year = int(input('请输入年份: '))\n",
    "\n",
    "# 如果代码太长写成一行不便于阅读 可以使用\\对代码进行折行\n",
    "is_leap = year % 4 == 0 and year % 100 != 0 or year % 400 == 0\n",
    "if is_leap:\n",
    "    print('%d年是闰年'% year)\n",
    "else:\n",
    "    print('%d不是闰年'% year)\n",
    "    \n",
    "    "
   ]
  },
  {
   "cell_type": "code",
   "execution_count": null,
   "metadata": {},
   "outputs": [],
   "source": []
  }
 ],
 "metadata": {
  "kernelspec": {
   "display_name": "Python 3",
   "language": "python",
   "name": "python3"
  },
  "language_info": {
   "codemirror_mode": {
    "name": "ipython",
    "version": 3
   },
   "file_extension": ".py",
   "mimetype": "text/x-python",
   "name": "python",
   "nbconvert_exporter": "python",
   "pygments_lexer": "ipython3",
   "version": "3.8.5"
  }
 },
 "nbformat": 4,
 "nbformat_minor": 4
}
